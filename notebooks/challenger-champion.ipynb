{
 "cells": [
  {
   "attachments": {},
   "cell_type": "markdown",
   "metadata": {},
   "source": [
    "# Comparing Results\n",
    "\n",
    "First, let's collect the performance of our models:"
   ]
  },
  {
   "cell_type": "code",
   "execution_count": 1,
   "metadata": {},
   "outputs": [
    {
     "ename": "MetaflowNotFound",
     "evalue": "Flow('TitanicSurvivalPredictor') does not exist",
     "output_type": "error",
     "traceback": [
      "\u001b[0;31m---------------------------------------------------------------------------\u001b[0m",
      "\u001b[0;31mMetaflowNotFound\u001b[0m                          Traceback (most recent call last)",
      "Cell \u001b[0;32mIn[1], line 10\u001b[0m\n\u001b[1;32m      8\u001b[0m \u001b[39mfor\u001b[39;00m n \u001b[39min\u001b[39;00m [CHAMPION_MODEL_NAMESPACE, CHALLENGER_MODEL_NAMESPACE]:\n\u001b[1;32m      9\u001b[0m     namespace(n)\n\u001b[0;32m---> 10\u001b[0m     run \u001b[39m=\u001b[39m Flow(\u001b[39m'\u001b[39;49m\u001b[39mTitanicSurvivalPredictor\u001b[39;49m\u001b[39m'\u001b[39;49m)\u001b[39m.\u001b[39mlatest_successful_run\n\u001b[1;32m     11\u001b[0m     acc_score \u001b[39m=\u001b[39m run\u001b[39m.\u001b[39mdata\u001b[39m.\u001b[39mscore\n\u001b[1;32m     12\u001b[0m     \u001b[39mif\u001b[39;00m acc_score \u001b[39m>\u001b[39m best_score:\n",
      "File \u001b[0;32m~/.local/lib/python3.10/site-packages/metaflow/client/core.py:2022\u001b[0m, in \u001b[0;36mFlow.__init__\u001b[0;34m(self, *args, **kwargs)\u001b[0m\n\u001b[1;32m   2021\u001b[0m \u001b[39mdef\u001b[39;00m \u001b[39m__init__\u001b[39m(\u001b[39mself\u001b[39m, \u001b[39m*\u001b[39margs, \u001b[39m*\u001b[39m\u001b[39m*\u001b[39mkwargs):\n\u001b[0;32m-> 2022\u001b[0m     \u001b[39msuper\u001b[39;49m(Flow, \u001b[39mself\u001b[39;49m)\u001b[39m.\u001b[39;49m\u001b[39m__init__\u001b[39;49m(\u001b[39m*\u001b[39;49margs, \u001b[39m*\u001b[39;49m\u001b[39m*\u001b[39;49mkwargs)\n",
      "File \u001b[0;32m~/.local/lib/python3.10/site-packages/metaflow/client/core.py:305\u001b[0m, in \u001b[0;36mMetaflowObject.__init__\u001b[0;34m(self, pathspec, attempt, _object, _parent, _namespace_check)\u001b[0m\n\u001b[1;32m    303\u001b[0m     \u001b[39mself\u001b[39m\u001b[39m.\u001b[39mid \u001b[39m=\u001b[39m ids[\u001b[39m-\u001b[39m\u001b[39m1\u001b[39m]\n\u001b[1;32m    304\u001b[0m     \u001b[39mself\u001b[39m\u001b[39m.\u001b[39m_pathspec \u001b[39m=\u001b[39m pathspec\n\u001b[0;32m--> 305\u001b[0m     \u001b[39mself\u001b[39m\u001b[39m.\u001b[39m_object \u001b[39m=\u001b[39m \u001b[39mself\u001b[39;49m\u001b[39m.\u001b[39;49m_get_object(\u001b[39m*\u001b[39;49mids)\n\u001b[1;32m    306\u001b[0m \u001b[39melse\u001b[39;00m:\n\u001b[1;32m    307\u001b[0m     \u001b[39mself\u001b[39m\u001b[39m.\u001b[39m_object \u001b[39m=\u001b[39m _object\n",
      "File \u001b[0;32m~/.local/lib/python3.10/site-packages/metaflow/client/core.py:337\u001b[0m, in \u001b[0;36mMetaflowObject._get_object\u001b[0;34m(self, *path_components)\u001b[0m\n\u001b[1;32m    333\u001b[0m result \u001b[39m=\u001b[39m \u001b[39mself\u001b[39m\u001b[39m.\u001b[39m_metaflow\u001b[39m.\u001b[39mmetadata\u001b[39m.\u001b[39mget_object(\n\u001b[1;32m    334\u001b[0m     \u001b[39mself\u001b[39m\u001b[39m.\u001b[39m_NAME, \u001b[39m\"\u001b[39m\u001b[39mself\u001b[39m\u001b[39m\"\u001b[39m, \u001b[39mNone\u001b[39;00m, \u001b[39mself\u001b[39m\u001b[39m.\u001b[39m_attempt, \u001b[39m*\u001b[39mpath_components\n\u001b[1;32m    335\u001b[0m )\n\u001b[1;32m    336\u001b[0m \u001b[39mif\u001b[39;00m \u001b[39mnot\u001b[39;00m result:\n\u001b[0;32m--> 337\u001b[0m     \u001b[39mraise\u001b[39;00m MetaflowNotFound(\u001b[39m\"\u001b[39m\u001b[39m%s\u001b[39;00m\u001b[39m does not exist\u001b[39m\u001b[39m\"\u001b[39m \u001b[39m%\u001b[39m \u001b[39mself\u001b[39m)\n\u001b[1;32m    338\u001b[0m \u001b[39mreturn\u001b[39;00m result\n",
      "\u001b[0;31mMetaflowNotFound\u001b[0m: Flow('TitanicSurvivalPredictor') does not exist"
     ]
    }
   ],
   "source": [
    "from metaflow import Flow, namespace\n",
    "\n",
    "# these values are unique to your deployment!\n",
    "CHAMPION_MODEL_NAMESPACE = \"production:mfprj-xsfdb3gtsiboqyrd-0-vqsy\" # \"production:mfprj-xsfdb3gtsiboqyrd-0-vqsy\"\n",
    "CHALLENGER_MODEL_NAMESPACE = \"production:mfprj-cfyzlfzievjlmsf4-0-tbgz\" # \"production:mfprj-cfyzlfzievjlmsf4-0-tbgz\"\n",
    "\n",
    "best_score = -1; winner = None; winner_namespace = None\n",
    "for n in [CHAMPION_MODEL_NAMESPACE, CHALLENGER_MODEL_NAMESPACE]:\n",
    "    namespace(n)\n",
    "    run = Flow('TitanicSurvivalPredictor').latest_successful_run\n",
    "    acc_score = run.data.score\n",
    "    if acc_score > best_score:\n",
    "        best_score = acc_score\n",
    "        winner = run.data.model_type\n",
    "        winner_namespace = n"
   ]
  },
  {
   "cell_type": "code",
   "execution_count": null,
   "metadata": {},
   "outputs": [],
   "source": [
    "print(\"The winner is the {} model, with accuracy of {}%. You can find the model in the flow deployed to the {} namespace.\".format(winner, round(100*best_score, 2), winner_namespace))"
   ]
  },
  {
   "attachments": {},
   "cell_type": "markdown",
   "metadata": {},
   "source": [
    "In practice, instead of evaluating on a static validation set, you may want to send production data to each model to run an A/B test before fully replacing an incumbent model. \n",
    "\n",
    "The details of doing this at scale are beyond the scope of this course, but now you have all the infrastructural tools at your disposal - and you can always practice more advanced deployment strategies for free in your Metaflow sandbox!\n",
    "\n",
    "In the next lesson, we will point you in the direction of production A/B testing. Specifically, you will restart your model server if you turned it off, and start sending traffic to the challenger model you deployed and analyzed in this notebook."
   ]
  }
 ],
 "metadata": {
  "kernelspec": {
   "display_name": "Full Stack ML Corise",
   "language": "python",
   "name": "full-stack-metaflow-corise"
  },
  "language_info": {
   "codemirror_mode": {
    "name": "ipython",
    "version": 3
   },
   "file_extension": ".py",
   "mimetype": "text/x-python",
   "name": "python",
   "nbconvert_exporter": "python",
   "pygments_lexer": "ipython3",
   "version": "3.10.8"
  },
  "orig_nbformat": 4
 },
 "nbformat": 4,
 "nbformat_minor": 2
}
